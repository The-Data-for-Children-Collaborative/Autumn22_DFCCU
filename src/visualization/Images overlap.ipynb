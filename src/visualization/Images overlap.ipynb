{
 "cells": [
  {
   "cell_type": "code",
   "execution_count": null,
   "id": "92c425ce-c8ef-452f-ac7f-f8eb61bcc3eb",
   "metadata": {
    "tags": []
   },
   "outputs": [],
   "source": [
    "\"\"\" Overlap 2 images, Maxar and Lidar, to see the alignment of 2 files in the same folder\"\"\"\n",
    "\n",
    "# packages needed\n",
    "import matplotlib.pyplot as plt\n",
    "from matplotlib import pyplot\n",
    "import rioxarray as rxr\n",
    "\n",
    "### user information: ###\n",
    "\n",
    "# The user should write: image_overlap(code1, code2) \n",
    "# and add:\n",
    "# code1 = the 4 first digits of the name of the files.\n",
    "# code2 = the 3 last digits of the name of the files.\n",
    "# The output is automatically called: code1-code2_output.png.\n",
    "\n",
    "###   end of user information   ###\n",
    "\n",
    "# opening files\n",
    "def image_overlap(code1, code2):\n",
    "    xr = rxr.open_rasterio(\"BHM-{a}-{b}_reproject_resolve.tif\".format(a=code1,b=code2), masked=True)\n",
    "    xr1 = rxr.open_rasterio(\"{a}_{b}_reproject.tif\".format(a=code1,b=code2))\n",
    "    xr_masked = xr.where(xr != \"Nan\")\n",
    "\n",
    "# plotting files\n",
    "    plt.imshow(xr1[1], cmap=\"pink\")\n",
    "    plt.imshow(xr_masked[0], alpha=0.5, cmap=\"cool\" )\n",
    "    plt.colorbar()\n",
    "    plt.savefig(\"{a}-{b}_output.png\".format(a=code1,b=code2), bbox_inches='tight', dpi=150) # saving the output files\n",
    "    plt.show()  "
   ]
  },
  {
   "cell_type": "code",
   "execution_count": null,
   "id": "13fcafac-5f76-44bc-82c5-7850c0d8377d",
   "metadata": {},
   "outputs": [],
   "source": [
    "image_overlap(2222,211)"
   ]
  },
  {
   "cell_type": "code",
   "execution_count": null,
   "id": "0a59bd8c-5e4f-4038-aef4-2a690996f7b6",
   "metadata": {},
   "outputs": [],
   "source": [
    "image_overlap(2222,212)"
   ]
  },
  {
   "cell_type": "code",
   "execution_count": null,
   "id": "f6274074-028c-438f-8671-820ff08ea2d5",
   "metadata": {},
   "outputs": [],
   "source": [
    "image_overlap(2222,222)"
   ]
  },
  {
   "cell_type": "code",
   "execution_count": null,
   "id": "f55b6bd5-f748-4f89-9a3c-51a7c56a20ca",
   "metadata": {},
   "outputs": [],
   "source": [
    "image_overlap(2222,224)"
   ]
  },
  {
   "cell_type": "code",
   "execution_count": null,
   "id": "e860d247-cba4-4f4d-b487-c821ced401db",
   "metadata": {},
   "outputs": [],
   "source": [
    "image_overlap(2222,231)"
   ]
  },
  {
   "cell_type": "code",
   "execution_count": null,
   "id": "e8074809-0421-4a68-adb1-1d12f1b3aeb4",
   "metadata": {},
   "outputs": [],
   "source": [
    "image_overlap(2222,232)"
   ]
  },
  {
   "cell_type": "code",
   "execution_count": null,
   "id": "d9829249-d54b-496d-9f55-0ab63cfb4339",
   "metadata": {},
   "outputs": [],
   "source": [
    "image_overlap(2222,252)"
   ]
  },
  {
   "cell_type": "code",
   "execution_count": null,
   "id": "b94028b2-5468-4484-a26b-36f7ccc13f7c",
   "metadata": {},
   "outputs": [],
   "source": [
    "image_overlap(2222,261)"
   ]
  },
  {
   "cell_type": "code",
   "execution_count": null,
   "id": "5c8a6381-4968-4786-9d2c-6fb976b707e6",
   "metadata": {},
   "outputs": [],
   "source": [
    "image_overlap(2222,411)"
   ]
  },
  {
   "cell_type": "code",
   "execution_count": null,
   "id": "3fb5a7ec-d82a-4402-897a-a4b789539885",
   "metadata": {},
   "outputs": [],
   "source": [
    "image_overlap(2222,412)"
   ]
  },
  {
   "cell_type": "code",
   "execution_count": null,
   "id": "2e368c1d-5acb-4205-a381-20350b18d7a8",
   "metadata": {},
   "outputs": [],
   "source": [
    "image_overlap(2222,421)"
   ]
  },
  {
   "cell_type": "code",
   "execution_count": null,
   "id": "94f405a2-d102-49ee-8bfc-a7dbd1f50a63",
   "metadata": {},
   "outputs": [],
   "source": [
    "image_overlap(2222,424)"
   ]
  },
  {
   "cell_type": "code",
   "execution_count": null,
   "id": "d5bca9cd-a25f-4a24-ba2a-d3147e9e7cd2",
   "metadata": {},
   "outputs": [],
   "source": [
    "image_overlap(2222,454)"
   ]
  },
  {
   "cell_type": "code",
   "execution_count": null,
   "id": "53cd7edb-8e33-4e7f-b1a9-57078e7cfa3b",
   "metadata": {},
   "outputs": [],
   "source": [
    "image_overlap(2222,462)"
   ]
  }
 ],
 "metadata": {
  "kernelspec": {
   "display_name": "Python 3 (ipykernel)",
   "language": "python",
   "name": "python3"
  },
  "language_info": {
   "codemirror_mode": {
    "name": "ipython",
    "version": 3
   },
   "file_extension": ".py",
   "mimetype": "text/x-python",
   "name": "python",
   "nbconvert_exporter": "python",
   "pygments_lexer": "ipython3",
   "version": "3.10.6"
  }
 },
 "nbformat": 4,
 "nbformat_minor": 5
}
