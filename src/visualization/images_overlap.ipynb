{
 "cells": [
  {
   "cell_type": "code",
   "execution_count": null,
   "id": "92c425ce-c8ef-452f-ac7f-f8eb61bcc3eb",
   "metadata": {
    "tags": []
   },
   "outputs": [],
   "source": [
    "\"\"\" Overlap 2 images, Maxar and Lidar, to see the alignment of 2 files in the same folder\"\"\"\n",
    "\n",
    "# packages needed\n",
    "import matplotlib.pyplot as plt\n",
    "from matplotlib import pyplot\n",
    "import rioxarray as rxr\n",
    "\n",
    "### user information: ###\n",
    "\n",
    "# The user should write: image_overlap(code1, code2) \n",
    "# and add:\n",
    "# code1 = the 4 first digits of the name of the files.\n",
    "# code2 = the 3 last digits of the name of the files.\n",
    "# The output is automatically called: code1-code2_output.png.\n",
    "\n",
    "###   end of user information   ###\n",
    "\n",
    "# opening files\n",
    "def image_overlap(code1, code2):\n",
    "    xr = rxr.open_rasterio(\"BHM-{a}-{b}_reproject_resolve.tif\".format(a=code1,b=code2), masked=True)\n",
    "    xr1 = rxr.open_rasterio(\"{a}_{b}_reproject.tif\".format(a=code1,b=code2))\n",
    "    xr_masked = xr.where(xr != \"Nan\")\n",
    "\n",
    "# plotting files\n",
    "    plt.imshow(xr1[1], cmap=\"pink\")\n",
    "    plt.imshow(xr_masked[0], alpha=0.5, cmap=\"cool\" )\n",
    "    plt.colorbar()\n",
    "    plt.savefig(\"{a}-{b}_output.png\".format(a=code1,b=code2), bbox_inches='tight', dpi=150) # saving the output files\n",
    "    plt.show()  "
   ]
  }
 ],
 "metadata": {
  "kernelspec": {
   "display_name": "Python 3.9.13 ('model')",
   "language": "python",
   "name": "python3"
  },
  "language_info": {
   "codemirror_mode": {
    "name": "ipython",
    "version": 3
   },
   "file_extension": ".py",
   "mimetype": "text/x-python",
   "name": "python",
   "nbconvert_exporter": "python",
   "pygments_lexer": "ipython3",
   "version": "3.9.13"
  },
  "vscode": {
   "interpreter": {
    "hash": "4e36e7833865eed7f116c0dca30b5b314f77723e5c5c08961a36362fd625055c"
   }
  }
 },
 "nbformat": 4,
 "nbformat_minor": 5
}
