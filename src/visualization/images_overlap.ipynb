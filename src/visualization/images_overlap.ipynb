{
 "cells": [
  {
   "cell_type": "code",
   "execution_count": null,
   "id": "92c425ce-c8ef-452f-ac7f-f8eb61bcc3eb",
   "metadata": {
    "tags": []
   },
   "outputs": [],
   "source": [
    "\"\"\" Overlap 2 images, Maxar and Lidar, to see the alignment\"\"\"\n",
    "\n",
    "import matplotlib.pyplot as plt\n",
    "from matplotlib import pyplot\n",
    "import rioxarray as rxr\n",
    "\n",
    "### user information: ###\n",
    "\n",
    "# The user should write: misalignment(BHM_folder_path, Maxar_folder_path, output_folder_path) \n",
    "# and add:\n",
    "# BHM_folder_path = the directory of the folder of the Lidar files (height).\n",
    "# Maxar_folder_path = the directory of the folder of the Maxar files.\n",
    "# output_folder_path = the directory and file name to save the csv output.\n",
    "\n",
    "###   end of user information   ###\n",
    "\n",
    "def image_overlap(BHM_folder_path, Maxar_folder_path, output_folder_path):\n",
    "    xr = rxr.open_rasterio(BHM_folder_path, masked=True)\n",
    "    xr1 = rxr.open_rasterio(Maxar_folder_path)\n",
    "    xr_masked = xr.where(xr != \"Nan\")\n",
    "\n",
    "    plt.imshow(xr1[1], cmap=\"pink\")\n",
    "    plt.imshow(xr_masked[0], alpha=0.2, cmap=\"cool\" )\n",
    "    plt.colorbar()\n",
    "    plt.savefig(output_folder_path, bbox_inches='tight', dpi=150)\n",
    "    plt.show()   "
   ]
  }
 ],
 "metadata": {
  "kernelspec": {
   "display_name": "Python 3.9.13 ('model')",
   "language": "python",
   "name": "python3"
  },
  "language_info": {
   "codemirror_mode": {
    "name": "ipython",
    "version": 3
   },
   "file_extension": ".py",
   "mimetype": "text/x-python",
   "name": "python",
   "nbconvert_exporter": "python",
   "pygments_lexer": "ipython3",
   "version": "3.9.13"
  },
  "vscode": {
   "interpreter": {
    "hash": "4e36e7833865eed7f116c0dca30b5b314f77723e5c5c08961a36362fd625055c"
   }
  }
 },
 "nbformat": 4,
 "nbformat_minor": 5
}
