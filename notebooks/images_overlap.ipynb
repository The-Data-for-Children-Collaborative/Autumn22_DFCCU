{
 "cells": [
  {
   "cell_type": "code",
   "execution_count": null,
   "id": "92c425ce-c8ef-452f-ac7f-f8eb61bcc3eb",
   "metadata": {
    "tags": []
   },
   "outputs": [],
   "source": [
    "\"\"\" Plot 2 images overlapped, to see how they match together\"\"\"\n",
    "\n",
    "import matplotlib.pyplot as plt\n",
    "import rioxarray as rxr\n",
    "from matplotlib import pyplot\n",
    "\n",
    "### user information: ####\n",
    "\n",
    "# This function overlap 2 images to help see how they match, one image is in the background and the other is ovelapped with transparency.\n",
    "# The user should write: image_overlap(\"overlap_folderpath_filename\", \"backgroung_folderpath_filename\", \"output_folderpath_filename\") \n",
    "# and add:\n",
    "# overlap_folderpath_filename = the filename with the directory of the image overlapped.\n",
    "# backgroung_folderpath_filename = the filename with the directory of the image in the Background.\n",
    "# output_folderpath_filename = the filename with the directory where to save the csv output.\n",
    "# Example of how to use the function:\n",
    "# image_overlap(/data/UNICEF_data/tim_maxar_bhm_final_pairs/pairs_0/bhm/BHM-2222-212_reproject_resolve.tif, /data/UNICEF_data/tim_maxar_bhm_final_pairs/pairs_0/maxar/2222_212_reproject.tif, /data/UNICEF_data/tim_maxar_bhm_final_pairs/pairs_0/2222_212_overlap.tif)\n",
    "\n",
    "###   end of user information   ###\n",
    "\n",
    "# define the function:\n",
    "def image_overlap(overlap_folderpath_filename, backgroung_folderpath_filename, output_folderpath_filename):\n",
    "# Open the files  \n",
    "    overlap = rxr.open_rasterio(overlap_folderpath_filename, masked=True)\n",
    "    background = rxr.open_rasterio(backgroung_folderpath_filename)\n",
    "# Hide where there are non-values to show the backgrounf image.\n",
    "    overlap_masked = overlap.where(overlap != \"Nan\")\n",
    "\n",
    "# plot the 2 images in the same chart (you  can change the colours (through the cmap))\n",
    "# and the transparency of the overlapped image (through alpha))\n",
    "    plt.imshow(background[1], cmap=\"pink\")\n",
    "    plt.imshow(overlap_masked[0], alpha=0.2, cmap=\"cool\" )\n",
    "    plt.colorbar()\n",
    "# save the file with the output folderpath and filename (normally as .tif)\n",
    "    plt.savefig(output_folderpath_filename, bbox_inches='tight', dpi=150)\n",
    "    plt.show()   "
   ]
  },
  {
   "cell_type": "code",
   "execution_count": null,
   "id": "0d6fa002",
   "metadata": {},
   "outputs": [],
   "source": [
    "# Examples:\n",
    "username = \"jaume\"\n",
    "\n",
    "image_overlap(\"/home/\" + username + \"/data/UNICEF_data/tim_maxar_bhm_final_pairs/pairs_10/vhm/vhm-3216-111.tif\", \"/home/\" + username + \"/data/UNICEF_data/tim_maxar_bhm_final_pairs/pairs_10/maxar/maxar-3216-111.tif\", \"/home/\" + username + \"/data/UNICEF_data/tim_maxar_bhm_final_pairs/pairs_10/3216-111-V-M-overlap.tif\")\n",
    "\n",
    "image_overlap(\"/home/\" + username + \"/data/UNICEF_data/tim_maxar_bhm_final_pairs/pairs_10/vhm/vhm-3215-412.tif\", \"/home/\" + username + \"/data/UNICEF_data/tim_maxar_bhm_final_pairs/pairs_10/maxar/maxar-3215-412.tif\", \"/home/\" + username + \"/data/UNICEF_data/tim_maxar_bhm_final_pairs/pairs_10/3215-412-V-M-overlap.tif\")\n",
    "\n",
    "image_overlap(\"/home/\" + username + \"/data/UNICEF_data/tim_maxar_bhm_final_pairs/pairs_0/bhm/bhm-2222-212.tif\", \"/home/\" + username + \"/data/UNICEF_data/tim_maxar_bhm_final_pairs/pairs_0/maxar/maxar-2222-212.tif\", \"/home/\" + username + \"/data/UNICEF_data/tim_maxar_bhm_final_pairs/pairs_0/2222-212-B-M-overlap.tif\")\n",
    "\n",
    "image_overlap(\"/home/\" + username + \"/data/UNICEF_data/tim_maxar_bhm_final_pairs/pairs_0/bhm/bhm-2222-252.tif\", \"/home/\" + username + \"/data/UNICEF_data/tim_maxar_bhm_final_pairs/pairs_0/maxar/maxar-2222-252.tif\", \"/home/\" + username + \"/data/UNICEF_data/tim_maxar_bhm_final_pairs/pairs_0/2222-252-B-M-overlap.tif\")"
   ]
  }
 ],
 "metadata": {
  "kernelspec": {
   "display_name": "Python 3.9.13 ('model')",
   "language": "python",
   "name": "python3"
  },
  "language_info": {
   "codemirror_mode": {
    "name": "ipython",
    "version": 3
   },
   "file_extension": ".py",
   "mimetype": "text/x-python",
   "name": "python",
   "nbconvert_exporter": "python",
   "pygments_lexer": "ipython3",
   "version": "3.9.13"
  },
  "vscode": {
   "interpreter": {
    "hash": "4e36e7833865eed7f116c0dca30b5b314f77723e5c5c08961a36362fd625055c"
   }
  }
 },
 "nbformat": 4,
 "nbformat_minor": 5
}
