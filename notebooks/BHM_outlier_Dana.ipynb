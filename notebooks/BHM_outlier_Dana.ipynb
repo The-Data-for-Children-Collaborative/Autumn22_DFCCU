{
 "cells": [
  {
   "cell_type": "markdown",
   "id": "30b70219",
   "metadata": {},
   "source": [
    "# Reading in height model¶\n",
    "\n",
    "Descritption see here: [https://github.com/AndaSampa/building-height-model] and here [https://www.kaggle.com/datasets/andasampa/height-model]\n",
    "\n",
    "The files have been reprojected from UTM to pseudo mercator using gdal (Autumn22_DFCCU/src/data/regrid_maxar.py) and the extends on each file and the min,max values for each file have been written to /home/\"usr\"/data/height_model_file_pseudo_mercator_edges.csv\n",
    "(using Autumn22_DFCCU/src/data/height_model_file_edges.py)"
   ]
  },
  {
   "cell_type": "code",
   "execution_count": null,
   "id": "ca72c8c6",
   "metadata": {},
   "outputs": [],
   "source": [
    "import numpy as np\n",
    "import matplotlib.pyplot as plt\n",
    "import rioxarray as rxr\n",
    "import pandas as pd\n",
    "import seaborn as sns"
   ]
  },
  {
   "cell_type": "code",
   "execution_count": null,
   "id": "0d95d434",
   "metadata": {},
   "outputs": [],
   "source": [
    "# data directory, set username to your username\n",
    "username = \"dana\"\n",
    "homepath = \"/home/\" + username + \"/data/\""
   ]
  },
  {
   "cell_type": "markdown",
   "id": "c33f8864",
   "metadata": {},
   "source": [
    "### Read in extend and min/max values for each BHM*_reprojected.tif file"
   ]
  },
  {
   "cell_type": "code",
   "execution_count": null,
   "id": "2c51d5c8",
   "metadata": {},
   "outputs": [],
   "source": [
    "grid_height_model = pd.read_csv(\n",
    "    homepath + \"height_model_file_pseudo_mercator_edges.csv\"\n",
    ")\n",
    "grid_height_model.head()"
   ]
  },
  {
   "cell_type": "code",
   "execution_count": null,
   "id": "508547dc",
   "metadata": {},
   "outputs": [],
   "source": [
    "# min extremes\n",
    "grid_height_model[[\"file_name\", \"min_value\"]].sort_values(by=\"min_value\").head()"
   ]
  },
  {
   "cell_type": "code",
   "execution_count": null,
   "id": "9f5fa96c",
   "metadata": {},
   "outputs": [],
   "source": [
    "# max extremes\n",
    "grid_height_model[[\"file_name\", \"max_value\"]].sort_values(\n",
    "    by=\"max_value\", ascending=False\n",
    ").head()"
   ]
  },
  {
   "cell_type": "markdown",
   "id": "a90b8d0b",
   "metadata": {},
   "source": [
    "### Plot distribution of min and max values\n",
    "special interest: how are the negative values distributed?"
   ]
  },
  {
   "cell_type": "code",
   "execution_count": null,
   "id": "155e2f45",
   "metadata": {},
   "outputs": [],
   "source": [
    "sns.boxplot(data=grid_height_model[[\"min_value\", \"max_value\"]])\n",
    "plt.title(\"Stats of min and max values for all BHM files\");"
   ]
  },
  {
   "cell_type": "code",
   "execution_count": null,
   "id": "7d272d4f",
   "metadata": {},
   "outputs": [],
   "source": [
    "sns.histplot(x=\"min_value\", data=grid_height_model)\n",
    "# plt.ylim(0,900)\n",
    "plt.xlim(-35, 20)\n",
    "plt.title(\"Histogram over all BHM*_reprojected.tif (excluding 2 outliers)\")\n",
    "plt.ylabel(\"counts\")\n",
    "plt.xlabel(\"minimum biulding height value\");"
   ]
  },
  {
   "cell_type": "code",
   "execution_count": null,
   "id": "6612a3ec",
   "metadata": {},
   "outputs": [],
   "source": [
    "sns.histplot(x=\"max_value\", data=grid_height_model)\n",
    "plt.xlim(0, 200)\n",
    "plt.title(\"Histogram over all BHM*_reprojected.tif (excluding ~290 outlier)\")\n",
    "plt.ylabel(\"counts\")\n",
    "plt.xlabel(\"maximum biulding height value\");"
   ]
  },
  {
   "cell_type": "markdown",
   "id": "d0b70596",
   "metadata": {},
   "source": [
    "### Looking at -247 outlier\n",
    "= BHM-3322-143_reproject.tif"
   ]
  },
  {
   "cell_type": "code",
   "execution_count": null,
   "id": "a38ed276",
   "metadata": {},
   "outputs": [],
   "source": [
    "# load data with rioxarray\n",
    "# masked=True : set 0 to nan (easier to see where there are buildings)\n",
    "# .squeeze() -> keep only Band 1 (with information)\n",
    "BH3322_143_arr = rxr.open_rasterio(\n",
    "    homepath + \"UNICEF_data/height-model-copy/3322-BHM/BHM-3322-143_reproject.tif\",\n",
    "    masked=True,\n",
    ").squeeze()\n",
    "np.nanmin(BH3322_143_arr), np.nanmax(BH3322_143_arr), BH3322_143_arr.shape"
   ]
  },
  {
   "cell_type": "code",
   "execution_count": null,
   "id": "d4c73293",
   "metadata": {},
   "outputs": [],
   "source": [
    "BH3322_143_arr.plot(vmin=-250, vmax=25, cbar_kwargs={\"label\": \"height (m?)\"})\n",
    "plt.title(\"BH3322_143_reprojected,-247 outlier\");"
   ]
  },
  {
   "cell_type": "code",
   "execution_count": null,
   "id": "dfe1b423",
   "metadata": {},
   "outputs": [],
   "source": [
    "BH3322_143_arr.plot(vmin=-25, vmax=25, cbar_kwargs={\"label\": \"height (m?)\"})\n",
    "plt.ylim(-2.6946e6, BH3322_143_arr.y.max())\n",
    "plt.xlim(BH3322_143_arr.x.min(), -5.1832e6)\n",
    "plt.title(\"BH3322_143_reprojected,-247 outlier, zoom\");"
   ]
  },
  {
   "cell_type": "markdown",
   "id": "aad3d916",
   "metadata": {},
   "source": [
    "### Looking at -111 outlier\n",
    "= BHM-3322-334_reproject.tif"
   ]
  },
  {
   "cell_type": "code",
   "execution_count": null,
   "id": "48790de0",
   "metadata": {},
   "outputs": [],
   "source": [
    "BH3322_334_arr = rxr.open_rasterio(\n",
    "    homepath + \"UNICEF_data/height-model-copy/3322-BHM/BHM-3322-334_reproject.tif\",\n",
    "    masked=True,\n",
    ").squeeze()\n",
    "np.nanmin(BH3322_334_arr), np.nanmax(BH3322_334_arr), BH3322_334_arr.shape"
   ]
  },
  {
   "cell_type": "code",
   "execution_count": null,
   "id": "6b3d3f54",
   "metadata": {},
   "outputs": [],
   "source": [
    "BH3322_334_arr.plot(vmin=-112, vmax=170, cbar_kwargs={\"label\": \"height (m?)\"})\n",
    "plt.title(\"BH3322_334_reprojected,-111 outlier\");"
   ]
  },
  {
   "cell_type": "code",
   "execution_count": null,
   "id": "5e6ee2bc",
   "metadata": {},
   "outputs": [],
   "source": [
    "BH3322_334_arr.plot(vmin=-112, vmax=170, cbar_kwargs={\"label\": \"height (m?)\"})\n",
    "plt.title(\"BH3322_334_reprojected,-111 outlier, zoom\")\n",
    "plt.ylim(-2.69625e6, -2.69615e6)\n",
    "plt.xlim(-5.180e6 - 100, -5.180e6);"
   ]
  },
  {
   "cell_type": "markdown",
   "id": "2caefc58",
   "metadata": {},
   "source": [
    "### Looking at 290 outlier\n",
    "= BHM-3322-144_reproject.tif"
   ]
  },
  {
   "cell_type": "code",
   "execution_count": null,
   "id": "a442f6b7",
   "metadata": {},
   "outputs": [],
   "source": [
    "# BH= building height\n",
    "# masked=True : not display nan\n",
    "BH3322_144_arr = rxr.open_rasterio(\n",
    "    homepath + \"UNICEF_data/height-model-copy/3322-BHM/BHM-3322-144_reproject.tif\",\n",
    "    masked=True,\n",
    ").squeeze()\n",
    "np.nanmin(BH3322_144_arr), np.nanmax(BH3322_144_arr), BH3322_144_arr.shape"
   ]
  },
  {
   "cell_type": "code",
   "execution_count": null,
   "id": "489baa95",
   "metadata": {},
   "outputs": [],
   "source": [
    "BH3322_144_arr.plot(vmin=-29, vmax=295, cbar_kwargs={\"label\": \"height (m?)\"})\n",
    "plt.title(\"BH3322_144_reprojected, ~290 outlier\");"
   ]
  },
  {
   "cell_type": "code",
   "execution_count": null,
   "id": "5a1cc9c9",
   "metadata": {},
   "outputs": [],
   "source": [
    "BH3322_144_arr.plot(vmin=-25, vmax=25, cbar_kwargs={\"label\": \"height (m?)\"})\n",
    "plt.ylim(BH3322_144_arr.y.min(), -2.6950e6)\n",
    "plt.xlim(\n",
    "    -5.182e6 - 250,\n",
    "    BH3322_144_arr.x.max(),\n",
    ")\n",
    "plt.title(\"BH3322_143_reprojected,~290 outlier, zoom\");"
   ]
  },
  {
   "cell_type": "code",
   "execution_count": null,
   "id": "ee33bd39",
   "metadata": {},
   "outputs": [],
   "source": []
  },
  {
   "cell_type": "code",
   "execution_count": null,
   "id": "4b7c0ee6",
   "metadata": {},
   "outputs": [],
   "source": []
  }
 ],
 "metadata": {
  "kernelspec": {
   "display_name": "Python 3 (ipykernel)",
   "language": "python",
   "name": "python3"
  },
  "language_info": {
   "codemirror_mode": {
    "name": "ipython",
    "version": 3
   },
   "file_extension": ".py",
   "mimetype": "text/x-python",
   "name": "python",
   "nbconvert_exporter": "python",
   "pygments_lexer": "ipython3",
   "version": "3.9.13"
  }
 },
 "nbformat": 4,
 "nbformat_minor": 5
}
