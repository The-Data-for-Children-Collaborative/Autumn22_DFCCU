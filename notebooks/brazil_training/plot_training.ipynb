{
 "cells": [
  {
   "cell_type": "code",
   "execution_count": null,
   "id": "e718f2a1",
   "metadata": {},
   "outputs": [],
   "source": [
    "import matplotlib.pyplot as plt\n",
    "import numpy as np"
   ]
  },
  {
   "cell_type": "code",
   "execution_count": null,
   "id": "235f1401",
   "metadata": {},
   "outputs": [],
   "source": [
    "with open(\"test.log\", \"r\") as f:\n",
    "    test_loss = f.readlines()"
   ]
  },
  {
   "cell_type": "code",
   "execution_count": null,
   "id": "405323ea",
   "metadata": {},
   "outputs": [],
   "source": [
    "print(test_loss)"
   ]
  },
  {
   "cell_type": "code",
   "execution_count": null,
   "id": "35f73c07",
   "metadata": {},
   "outputs": [],
   "source": [
    "train_loss_array = []\n",
    "val_loss_array = []\n",
    "for i in range(len(test_loss)):\n",
    "    parts = test_loss[i].split()\n",
    "    print(parts)\n",
    "    if parts[0] == \"Epoch:\":\n",
    "        train_loss_array.append(float(parts[7].strip(\"()\")))\n",
    "    elif parts[0] == \"Average\":\n",
    "        val_loss_array.append(float(parts[10]))\n",
    "    #test_loss_array[i,0] = parts[2]\n",
    "    #test_loss_array[i,1] = parts[8]"
   ]
  },
  {
   "cell_type": "code",
   "execution_count": null,
   "id": "7622c7eb",
   "metadata": {},
   "outputs": [],
   "source": [
    "print(train_loss_array)\n",
    "print(val_loss_array)"
   ]
  },
  {
   "cell_type": "code",
   "execution_count": null,
   "id": "a7d45e2f",
   "metadata": {},
   "outputs": [],
   "source": [
    "train_loss_array = np.asarray(train_loss_array)\n",
    "val_loss_array =np.asarray(val_loss_array)"
   ]
  },
  {
   "cell_type": "code",
   "execution_count": null,
   "id": "e6cba4d1",
   "metadata": {},
   "outputs": [],
   "source": [
    "x_train = np.arange(0, len(train_loss_array),1)/50"
   ]
  },
  {
   "cell_type": "code",
   "execution_count": null,
   "id": "e1ef011a",
   "metadata": {},
   "outputs": [],
   "source": [
    "x_val = np.arange(1,len(val_loss_array)+1)\n",
    "print(x_val)"
   ]
  },
  {
   "cell_type": "code",
   "execution_count": null,
   "id": "9d59ea02",
   "metadata": {},
   "outputs": [],
   "source": [
    "plt.scatter(x_train, train_loss_array, label=\"train\")\n",
    "plt.scatter(x_val, val_loss_array, label=\"validation\",color=\"r\")\n",
    "plt.ylabel('log loss')\n",
    "plt.xlabel('epochs')\n",
    "plt.ylim(-2.1,-1.2)\n",
    "plt.legend()"
   ]
  },
  {
   "cell_type": "code",
   "execution_count": null,
   "id": "2c5e5f18",
   "metadata": {},
   "outputs": [],
   "source": [
    "fig,ax = plt.subplots()\n",
    "l1 = ax.plot(x_train, train_loss_array,label=\"train loss\")\n",
    "l2 = ax.scatter(x_test, test_loss_array[:,0],color='r',label=\"test loss\")\n",
    "ax2 = ax.twinx()\n",
    "l3 = ax2.scatter(x_test, test_loss_array[:,1],color='orange', marker='x')\n",
    "ax.set_xlim(0,68)\n",
    "ax.set_ylim(-2.05,-1.5)\n",
    "ax2.set_ylim(2,6)\n",
    "ax.set_ylabel(\"log loss\")\n",
    "ax2.set_ylabel(\"MAE (test)\")\n",
    "ax.set_xlabel(\"epochs\")\n",
    "ax.scatter([], [], color='orange', marker='x',label = 'test MAE')\n",
    "ax.legend()\n",
    "plt.title(\"Train size = 50\")"
   ]
  },
  {
   "cell_type": "code",
   "execution_count": null,
   "id": "87933152",
   "metadata": {},
   "outputs": [],
   "source": []
  }
 ],
 "metadata": {
  "kernelspec": {
   "display_name": "Python 3 (ipykernel)",
   "language": "python",
   "name": "python3"
  },
  "language_info": {
   "codemirror_mode": {
    "name": "ipython",
    "version": 3
   },
   "file_extension": ".py",
   "mimetype": "text/x-python",
   "name": "python",
   "nbconvert_exporter": "python",
   "pygments_lexer": "ipython3",
   "version": "3.10.6"
  }
 },
 "nbformat": 4,
 "nbformat_minor": 5
}
