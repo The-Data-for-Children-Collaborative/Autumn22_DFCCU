{
 "cells": [
  {
   "cell_type": "code",
   "execution_count": null,
   "id": "9de4ccff",
   "metadata": {},
   "outputs": [],
   "source": [
    "%load_ext autoreload\n",
    "%autoreload 2"
   ]
  },
  {
   "cell_type": "code",
   "execution_count": null,
   "id": "1656827f",
   "metadata": {},
   "outputs": [],
   "source": [
    "import ee\n",
    "ee.Authenticate()\n",
    "ee.Initialize()"
   ]
  },
  {
   "cell_type": "code",
   "execution_count": null,
   "id": "fa0cdfdc",
   "metadata": {},
   "outputs": [],
   "source": [
    "import matplotlib.pyplot as plt\n",
    "import numpy as np\n",
    "import IPython.display as disp\n",
    "%matplotlib inline"
   ]
  },
  {
   "cell_type": "code",
   "execution_count": null,
   "id": "8071fcf8",
   "metadata": {},
   "outputs": [],
   "source": [
    "geoJSON = {\n",
    "  \"type\": \"FeatureCollection\",\n",
    "  \"features\": [\n",
    "    {\n",
    "      \"type\": \"Feature\",\n",
    "      \"properties\": {},\n",
    "      \"geometry\": {\n",
    "        \"coordinates\": [\n",
    "          [\n",
    "            -46.65810255733541,\n",
    "            -23.535732559501554\n",
    "          ],\n",
    "          [\n",
    "            -46.603706283614684,\n",
    "            -23.535732559501554\n",
    "          ],\n",
    "          [\n",
    "            -46.603706283614684,\n",
    "            -23.575921045095285\n",
    "          ],\n",
    "          [\n",
    "            -46.65810255733541,\n",
    "            -23.575921045095285\n",
    "          ]\n",
    "        ],\n",
    "        \"type\": \"LineString\"\n",
    "      }\n",
    "    }\n",
    "  ]\n",
    "}"
   ]
  },
  {
   "cell_type": "code",
   "execution_count": null,
   "id": "32c1f148",
   "metadata": {},
   "outputs": [],
   "source": [
    "coords = geoJSON['features'][0]['geometry']['coordinates']\n",
    "aoi = ee.Geometry.Polygon(coords)"
   ]
  },
  {
   "cell_type": "code",
   "execution_count": null,
   "id": "cce7f649",
   "metadata": {},
   "outputs": [],
   "source": [
    "ffa_db = ee.Image(ee.ImageCollection('COPERNICUS/S2_SR') \n",
    "                       .filterBounds(aoi) \n",
    "                       .filterDate(ee.Date('2020-08-01'), ee.Date('2020-08-31')) \n",
    "                       .first() \n",
    "                       .clip(aoi))"
   ]
  },
  {
   "cell_type": "code",
   "execution_count": null,
   "id": "34bb86cb",
   "metadata": {},
   "outputs": [],
   "source": [
    "ffa_db.bandNames().getInfo()\n"
   ]
  },
  {
   "cell_type": "code",
   "execution_count": null,
   "id": "bdff2dca",
   "metadata": {},
   "outputs": [],
   "source": [
    "url = ffa_db.select(['B2','B3','B4']).getThumbURL({'min': 0, 'max': 3000})\n",
    "disp.Image(url=url, width=800)"
   ]
  },
  {
   "cell_type": "code",
   "execution_count": null,
   "id": "be60db62",
   "metadata": {},
   "outputs": [],
   "source": []
  }
 ],
 "metadata": {
  "kernelspec": {
   "display_name": "sentinel",
   "language": "python",
   "name": "sentinel"
  },
  "language_info": {
   "codemirror_mode": {
    "name": "ipython",
    "version": 3
   },
   "file_extension": ".py",
   "mimetype": "text/x-python",
   "name": "python",
   "nbconvert_exporter": "python",
   "pygments_lexer": "ipython3",
   "version": "3.8.14"
  }
 },
 "nbformat": 4,
 "nbformat_minor": 5
}
