{
 "cells": [
  {
   "cell_type": "code",
   "execution_count": 1,
   "id": "9de4ccff",
   "metadata": {},
   "outputs": [],
   "source": [
    "%load_ext autoreload\n",
    "%autoreload 2"
   ]
  },
  {
   "cell_type": "code",
   "execution_count": 2,
   "id": "1656827f",
   "metadata": {},
   "outputs": [
    {
     "data": {
      "text/html": [
       "<p>To authorize access needed by Earth Engine, open the following\n",
       "        URL in a web browser and follow the instructions:</p>\n",
       "        <p><a href=https://code.earthengine.google.com/client-auth?scopes=https%3A//www.googleapis.com/auth/earthengine%20https%3A//www.googleapis.com/auth/devstorage.full_control&request_id=pD4tZTQkWS79_jJs1bnM4Xzecq_cXlT97O5NaSGhFgw&tc=vp1zNYY_kzxYQR9qOmwPpwAe3n3BLzFqNTw-yUSvGEg&cc=jFMcvZwAl_se0l0HJo9Yi9cILLh91Kh8tI_5O9RnRao>https://code.earthengine.google.com/client-auth?scopes=https%3A//www.googleapis.com/auth/earthengine%20https%3A//www.googleapis.com/auth/devstorage.full_control&request_id=pD4tZTQkWS79_jJs1bnM4Xzecq_cXlT97O5NaSGhFgw&tc=vp1zNYY_kzxYQR9qOmwPpwAe3n3BLzFqNTw-yUSvGEg&cc=jFMcvZwAl_se0l0HJo9Yi9cILLh91Kh8tI_5O9RnRao</a></p>\n",
       "        <p>The authorization workflow will generate a code, which you should paste in the box below.</p>\n",
       "        "
      ],
      "text/plain": [
       "<IPython.core.display.HTML object>"
      ]
     },
     "metadata": {},
     "output_type": "display_data"
    },
    {
     "name": "stderr",
     "output_type": "stream",
     "text": [
      "This tool has been deprecated, use 'gio open' instead.\n",
      "See 'gio help open' for more info.\n",
      "\n"
     ]
    },
    {
     "name": "stdout",
     "output_type": "stream",
     "text": [
      "Enter verification code: 4/1ARtbsJrsqjWrFWtD1lwVOt3hR0b7rjICZHD6aTxAU_j_fu1eNuhjPXs1PjE\n",
      "\n",
      "Successfully saved authorization token.\n"
     ]
    }
   ],
   "source": [
    "import ee\n",
    "\n",
    "ee.Authenticate()\n",
    "ee.Initialize()"
   ]
  },
  {
   "cell_type": "code",
   "execution_count": 3,
   "id": "fa0cdfdc",
   "metadata": {},
   "outputs": [],
   "source": [
    "import matplotlib.pyplot as plt\n",
    "import numpy as np\n",
    "import IPython.display as disp\n",
    "\n",
    "%matplotlib inline"
   ]
  },
  {
   "cell_type": "code",
   "execution_count": 4,
   "id": "8071fcf8",
   "metadata": {},
   "outputs": [],
   "source": [
    "geoJSON = {\n",
    "    \"type\": \"FeatureCollection\",\n",
    "    \"features\": [\n",
    "        {\n",
    "            \"type\": \"Feature\",\n",
    "            \"properties\": {},\n",
    "            \"geometry\": {\n",
    "                \"coordinates\": [\n",
    "                    [-46.65810255733541, -23.535732559501554],\n",
    "                    [-46.603706283614684, -23.535732559501554],\n",
    "                    [-46.603706283614684, -23.575921045095285],\n",
    "                    [-46.65810255733541, -23.575921045095285],\n",
    "                ],\n",
    "                \"type\": \"LineString\",\n",
    "            },\n",
    "        }\n",
    "    ],\n",
    "}"
   ]
  },
  {
   "cell_type": "code",
   "execution_count": 140,
   "id": "9ecdb666",
   "metadata": {},
   "outputs": [],
   "source": [
    "import pandas as pd"
   ]
  },
  {
   "cell_type": "code",
   "execution_count": 141,
   "id": "5da750d0",
   "metadata": {},
   "outputs": [],
   "source": [
    "coords_df = pd.read_csv(\"/home/tim/data/height_model_file_edges.csv\")"
   ]
  },
  {
   "cell_type": "code",
   "execution_count": 142,
   "id": "ce449b02",
   "metadata": {},
   "outputs": [
    {
     "data": {
      "text/html": [
       "<div>\n",
       "<style scoped>\n",
       "    .dataframe tbody tr th:only-of-type {\n",
       "        vertical-align: middle;\n",
       "    }\n",
       "\n",
       "    .dataframe tbody tr th {\n",
       "        vertical-align: top;\n",
       "    }\n",
       "\n",
       "    .dataframe thead th {\n",
       "        text-align: right;\n",
       "    }\n",
       "</style>\n",
       "<table border=\"1\" class=\"dataframe\">\n",
       "  <thead>\n",
       "    <tr style=\"text-align: right;\">\n",
       "      <th></th>\n",
       "      <th>file_name</th>\n",
       "      <th>left</th>\n",
       "      <th>right</th>\n",
       "      <th>top</th>\n",
       "      <th>bottom</th>\n",
       "      <th>pixel_horiz</th>\n",
       "      <th>pixel_vert</th>\n",
       "    </tr>\n",
       "  </thead>\n",
       "  <tbody>\n",
       "    <tr>\n",
       "      <th>0</th>\n",
       "      <td>2222-132</td>\n",
       "      <td>318342.09</td>\n",
       "      <td>318468.09</td>\n",
       "      <td>7372316.75</td>\n",
       "      <td>7372138.25</td>\n",
       "      <td>253</td>\n",
       "      <td>358</td>\n",
       "    </tr>\n",
       "    <tr>\n",
       "      <th>1</th>\n",
       "      <td>2222-211</td>\n",
       "      <td>318457.24</td>\n",
       "      <td>318999.24</td>\n",
       "      <td>7372323.51</td>\n",
       "      <td>7371857.51</td>\n",
       "      <td>1085</td>\n",
       "      <td>933</td>\n",
       "    </tr>\n",
       "    <tr>\n",
       "      <th>2</th>\n",
       "      <td>2222-212</td>\n",
       "      <td>318988.17</td>\n",
       "      <td>319403.67</td>\n",
       "      <td>7372330.12</td>\n",
       "      <td>7371868.12</td>\n",
       "      <td>832</td>\n",
       "      <td>925</td>\n",
       "    </tr>\n",
       "    <tr>\n",
       "      <th>3</th>\n",
       "      <td>2222-222</td>\n",
       "      <td>320292.39</td>\n",
       "      <td>320591.89</td>\n",
       "      <td>7372319.53</td>\n",
       "      <td>7371756.03</td>\n",
       "      <td>600</td>\n",
       "      <td>1128</td>\n",
       "    </tr>\n",
       "    <tr>\n",
       "      <th>4</th>\n",
       "      <td>2222-224</td>\n",
       "      <td>320203.08</td>\n",
       "      <td>320495.58</td>\n",
       "      <td>7371766.54</td>\n",
       "      <td>7371370.54</td>\n",
       "      <td>586</td>\n",
       "      <td>793</td>\n",
       "    </tr>\n",
       "  </tbody>\n",
       "</table>\n",
       "</div>"
      ],
      "text/plain": [
       "  file_name       left      right         top      bottom  pixel_horiz  \\\n",
       "0  2222-132  318342.09  318468.09  7372316.75  7372138.25          253   \n",
       "1  2222-211  318457.24  318999.24  7372323.51  7371857.51         1085   \n",
       "2  2222-212  318988.17  319403.67  7372330.12  7371868.12          832   \n",
       "3  2222-222  320292.39  320591.89  7372319.53  7371756.03          600   \n",
       "4  2222-224  320203.08  320495.58  7371766.54  7371370.54          586   \n",
       "\n",
       "   pixel_vert  \n",
       "0         358  \n",
       "1         933  \n",
       "2         925  \n",
       "3        1128  \n",
       "4         793  "
      ]
     },
     "execution_count": 142,
     "metadata": {},
     "output_type": "execute_result"
    }
   ],
   "source": [
    "coords_df.head()"
   ]
  },
  {
   "cell_type": "code",
   "execution_count": 172,
   "id": "f27344ff",
   "metadata": {},
   "outputs": [],
   "source": [
    "coords_1 = coords_df.loc[[500]]"
   ]
  },
  {
   "cell_type": "code",
   "execution_count": 173,
   "id": "03c1b6ef",
   "metadata": {},
   "outputs": [],
   "source": [
    "coords = [\n",
    "    [coords_1.left.values[0], coords_1.bottom.values[0]],\n",
    "    [coords_1.left.values[0], coords_1.top.values[0]],\n",
    "    [coords_1.right.values[0], coords_1.top.values[0]],\n",
    "    [coords_1.right.values[0], coords_1.bottom.values[0]],\n",
    "]"
   ]
  },
  {
   "cell_type": "code",
   "execution_count": 33,
   "id": "4ea863f6",
   "metadata": {},
   "outputs": [],
   "source": [
    "# import rasterio.warp"
   ]
  },
  {
   "cell_type": "code",
   "execution_count": 38,
   "id": "fcf00ca2",
   "metadata": {},
   "outputs": [],
   "source": [
    "# x = np.asarray([coords[0][0]])\n",
    "# y = np.asarray([coords[0][1]])"
   ]
  },
  {
   "cell_type": "code",
   "execution_count": 41,
   "id": "3ae61cfd",
   "metadata": {},
   "outputs": [],
   "source": [
    "# destination_crs = \"EPSG:3857\"\n",
    "# src_crs = \"EPSG:31983\""
   ]
  },
  {
   "cell_type": "code",
   "execution_count": 42,
   "id": "70883ced",
   "metadata": {},
   "outputs": [],
   "source": [
    "# geometry = rasterio.warp.transform(\n",
    "#    src_crs,\n",
    "#    destination_crs,\n",
    "#    x,\n",
    "#    y\n",
    "# )"
   ]
  },
  {
   "cell_type": "code",
   "execution_count": 44,
   "id": "e6d617d4",
   "metadata": {},
   "outputs": [
    {
     "data": {
      "text/html": [
       "<div>\n",
       "<style scoped>\n",
       "    .dataframe tbody tr th:only-of-type {\n",
       "        vertical-align: middle;\n",
       "    }\n",
       "\n",
       "    .dataframe tbody tr th {\n",
       "        vertical-align: top;\n",
       "    }\n",
       "\n",
       "    .dataframe thead th {\n",
       "        text-align: right;\n",
       "    }\n",
       "</style>\n",
       "<table border=\"1\" class=\"dataframe\">\n",
       "  <thead>\n",
       "    <tr style=\"text-align: right;\">\n",
       "      <th></th>\n",
       "      <th>file_id</th>\n",
       "      <th>qmdt_cod</th>\n",
       "      <th>top</th>\n",
       "      <th>left</th>\n",
       "      <th>bottom</th>\n",
       "      <th>right</th>\n",
       "    </tr>\n",
       "  </thead>\n",
       "  <tbody>\n",
       "    <tr>\n",
       "      <th>0</th>\n",
       "      <td>0001.png</td>\n",
       "      <td>3212-353</td>\n",
       "      <td>-2.727409e+06</td>\n",
       "      <td>-5.196069e+06</td>\n",
       "      <td>-2.728042e+06</td>\n",
       "      <td>-5.195489e+06</td>\n",
       "    </tr>\n",
       "    <tr>\n",
       "      <th>1</th>\n",
       "      <td>0002.png</td>\n",
       "      <td>3212-344</td>\n",
       "      <td>-2.727409e+06</td>\n",
       "      <td>-5.196649e+06</td>\n",
       "      <td>-2.728042e+06</td>\n",
       "      <td>-5.196069e+06</td>\n",
       "    </tr>\n",
       "    <tr>\n",
       "      <th>2</th>\n",
       "      <td>0003.png</td>\n",
       "      <td>3212-343</td>\n",
       "      <td>-2.727409e+06</td>\n",
       "      <td>-5.197229e+06</td>\n",
       "      <td>-2.728042e+06</td>\n",
       "      <td>-5.196649e+06</td>\n",
       "    </tr>\n",
       "    <tr>\n",
       "      <th>3</th>\n",
       "      <td>0004.png</td>\n",
       "      <td>3211-464</td>\n",
       "      <td>-2.727409e+06</td>\n",
       "      <td>-5.197809e+06</td>\n",
       "      <td>-2.728042e+06</td>\n",
       "      <td>-5.197229e+06</td>\n",
       "    </tr>\n",
       "    <tr>\n",
       "      <th>4</th>\n",
       "      <td>0005.png</td>\n",
       "      <td>3211-463</td>\n",
       "      <td>-2.727409e+06</td>\n",
       "      <td>-5.198388e+06</td>\n",
       "      <td>-2.728042e+06</td>\n",
       "      <td>-5.197809e+06</td>\n",
       "    </tr>\n",
       "  </tbody>\n",
       "</table>\n",
       "</div>"
      ],
      "text/plain": [
       "    file_id  qmdt_cod           top          left        bottom         right\n",
       "0  0001.png  3212-353 -2.727409e+06 -5.196069e+06 -2.728042e+06 -5.195489e+06\n",
       "1  0002.png  3212-344 -2.727409e+06 -5.196649e+06 -2.728042e+06 -5.196069e+06\n",
       "2  0003.png  3212-343 -2.727409e+06 -5.197229e+06 -2.728042e+06 -5.196649e+06\n",
       "3  0004.png  3211-464 -2.727409e+06 -5.197809e+06 -2.728042e+06 -5.197229e+06\n",
       "4  0005.png  3211-463 -2.727409e+06 -5.198388e+06 -2.728042e+06 -5.197809e+06"
      ]
     },
     "execution_count": 44,
     "metadata": {},
     "output_type": "execute_result"
    }
   ],
   "source": [
    "maxar_df = pd.read_csv(\"/home/tim/data/UNICEF_data/grids_extent.csv\")\n",
    "maxar_df.head()"
   ]
  },
  {
   "cell_type": "code",
   "execution_count": 71,
   "id": "d242abf6",
   "metadata": {},
   "outputs": [],
   "source": [
    "c = 1000"
   ]
  },
  {
   "cell_type": "code",
   "execution_count": 112,
   "id": "ad70945f",
   "metadata": {},
   "outputs": [],
   "source": [
    "coords = [\n",
    "    [maxar_df.left.values[c], maxar_df.bottom.values[c]],\n",
    "    [maxar_df.left.values[c], maxar_df.top.values[c]],\n",
    "    [maxar_df.right.values[c], maxar_df.top.values[c]],\n",
    "    [maxar_df.right.values[c], maxar_df.bottom.values[c]],\n",
    "]"
   ]
  },
  {
   "cell_type": "code",
   "execution_count": 174,
   "id": "7b1c896d",
   "metadata": {},
   "outputs": [],
   "source": [
    "coords = np.array(coords)"
   ]
  },
  {
   "cell_type": "code",
   "execution_count": 175,
   "id": "c5d25e9d",
   "metadata": {},
   "outputs": [
    {
     "name": "stdout",
     "output_type": "stream",
     "text": [
      "(4, 2)\n"
     ]
    }
   ],
   "source": [
    "print(np.shape(coords))"
   ]
  },
  {
   "cell_type": "code",
   "execution_count": 176,
   "id": "112bf0bc",
   "metadata": {},
   "outputs": [
    {
     "name": "stdout",
     "output_type": "stream",
     "text": [
      "[[ 317861.15 7376920.75]\n",
      " [ 317861.15 7377507.75]\n",
      " [ 318310.65 7377507.75]\n",
      " [ 318310.65 7376920.75]]\n"
     ]
    }
   ],
   "source": [
    "print(coords)"
   ]
  },
  {
   "cell_type": "code",
   "execution_count": 177,
   "id": "4613a7d8",
   "metadata": {},
   "outputs": [],
   "source": [
    "from pyproj import Transformer"
   ]
  },
  {
   "cell_type": "code",
   "execution_count": 178,
   "id": "0e8bc6c1",
   "metadata": {},
   "outputs": [],
   "source": [
    "transformer = Transformer.from_crs(\"EPSG:31983\", \"EPSG:4326\", always_xy=True)"
   ]
  },
  {
   "cell_type": "code",
   "execution_count": 179,
   "id": "dec2a85a",
   "metadata": {},
   "outputs": [],
   "source": [
    "coords_x, coords_y = transformer.transform(coords[:, 0], coords[:, 1])"
   ]
  },
  {
   "cell_type": "code",
   "execution_count": 180,
   "id": "4f203701",
   "metadata": {},
   "outputs": [],
   "source": [
    "coords_new = np.dstack([coords_x, coords_y])[0]"
   ]
  },
  {
   "cell_type": "code",
   "execution_count": 181,
   "id": "2de7291c",
   "metadata": {},
   "outputs": [
    {
     "name": "stdout",
     "output_type": "stream",
     "text": [
      "[[-46.78654659 -23.70834814]\n",
      " [-46.78647442 -23.70304857]\n",
      " [-46.78206724 -23.70309939]\n",
      " [-46.78213924 -23.70839897]]\n"
     ]
    }
   ],
   "source": [
    "print(coords_new)"
   ]
  },
  {
   "cell_type": "code",
   "execution_count": 182,
   "id": "96bee9d6",
   "metadata": {},
   "outputs": [],
   "source": [
    "coords_new = coords_new.tolist()"
   ]
  },
  {
   "cell_type": "code",
   "execution_count": 183,
   "id": "2012ede6",
   "metadata": {
    "scrolled": true
   },
   "outputs": [],
   "source": [
    "aoi = ee.Geometry.Polygon(coords_new)"
   ]
  },
  {
   "cell_type": "code",
   "execution_count": 184,
   "id": "cce7f649",
   "metadata": {},
   "outputs": [],
   "source": [
    "ffa_db = ee.Image(\n",
    "    ee.ImageCollection(\"COPERNICUS/S2_SR\")\n",
    "    .filterBounds(aoi)\n",
    "    .filterDate(ee.Date(\"2020-08-01\"), ee.Date(\"2020-08-31\"))\n",
    "    .first()\n",
    "    .clip(aoi)\n",
    ")"
   ]
  },
  {
   "cell_type": "code",
   "execution_count": 186,
   "id": "bdff2dca",
   "metadata": {},
   "outputs": [
    {
     "data": {
      "text/html": [
       "<img src=\"https://earthengine.googleapis.com/v1alpha/projects/earthengine-legacy/thumbnails/7491ca2bc83e42b9875261b2b244ab62-ace54857eebc0238bdd323c5e719d049:getPixels\" width=\"200\"/>"
      ],
      "text/plain": [
       "<IPython.core.display.Image object>"
      ]
     },
     "execution_count": 186,
     "metadata": {},
     "output_type": "execute_result"
    }
   ],
   "source": [
    "url = ffa_db.select([\"B2\", \"B3\", \"B4\"]).getThumbURL({\"min\": 0, \"max\": 3000})\n",
    "disp.Image(url=url, width=200)"
   ]
  },
  {
   "cell_type": "code",
   "execution_count": null,
   "id": "be60db62",
   "metadata": {},
   "outputs": [],
   "source": []
  },
  {
   "cell_type": "code",
   "execution_count": null,
   "id": "a0729575",
   "metadata": {},
   "outputs": [],
   "source": []
  }
 ],
 "metadata": {
  "kernelspec": {
   "display_name": "Python 3 (ipykernel)",
   "language": "python",
   "name": "python3"
  },
  "language_info": {
   "codemirror_mode": {
    "name": "ipython",
    "version": 3
   },
   "file_extension": ".py",
   "mimetype": "text/x-python",
   "name": "python",
   "nbconvert_exporter": "python",
   "pygments_lexer": "ipython3",
   "version": "3.9.15"
  }
 },
 "nbformat": 4,
 "nbformat_minor": 5
}
